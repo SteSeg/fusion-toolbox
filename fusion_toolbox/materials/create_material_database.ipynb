{
 "cells": [
  {
   "cell_type": "code",
   "execution_count": 1,
   "metadata": {},
   "outputs": [],
   "source": [
    "import material_constructor as mc\n",
    "from dataserve import DataContainer\n",
    "from dataclasses import dataclass, fields\n",
    "from QueryAPI import WolframAPI"
   ]
  },
  {
   "cell_type": "code",
   "execution_count": 2,
   "metadata": {},
   "outputs": [],
   "source": [
    "iron = mc.Material(\n",
    "    name='iron',\n",
    "    composition='Fe',\n",
    "    density=7.874,\n",
    "    thermal_conductivity=79.5,\n",
    ")\n",
    "\n",
    "# # iron_dict = mc.make_dict(iron)\n",
    "# dc = DataContainer()\n",
    "# dc.trials = [iron]\n",
    "# dc.save('mydata.pkl')\n",
    "\n",
    "# materials = DataContainer('mydata.pkl')"
   ]
  },
  {
   "cell_type": "code",
   "execution_count": 3,
   "metadata": {},
   "outputs": [],
   "source": [
    "# iron.save_to(\"material_database.pkl\")"
   ]
  },
  {
   "cell_type": "code",
   "execution_count": 4,
   "metadata": {},
   "outputs": [],
   "source": [
    "beryllium = mc.Material(\n",
    "    name='beryllium',\n",
    "    composition='Be',\n",
    "    density=1.85,\n",
    "    thermal_conductivity=200,\n",
    ")"
   ]
  },
  {
   "cell_type": "code",
   "execution_count": 5,
   "metadata": {},
   "outputs": [],
   "source": [
    "# beryllium.save_to(\"material_database.pkl\")"
   ]
  },
  {
   "cell_type": "code",
   "execution_count": 6,
   "metadata": {},
   "outputs": [],
   "source": [
    "materials = DataContainer('material_database.pkl')"
   ]
  },
  {
   "cell_type": "code",
   "execution_count": 7,
   "metadata": {},
   "outputs": [
    {
     "name": "stdout",
     "output_type": "stream",
     "text": [
      "Material(name='Fe', composition='Fe', density=7.874, thermal_capacity=None, thermal_conductivity=79.5, thermal_expansion_coefficient=None, melting_temperature=None)\n",
      "Material(name='Be', composition='Be', density=1.85, thermal_capacity=None, thermal_conductivity=200, thermal_expansion_coefficient=None, melting_temperature=None)\n"
     ]
    }
   ],
   "source": [
    "for mat in materials.trials:\n",
    "    print(mat)"
   ]
  },
  {
   "cell_type": "code",
   "execution_count": null,
   "metadata": {},
   "outputs": [],
   "source": []
  },
  {
   "cell_type": "code",
   "execution_count": 8,
   "metadata": {},
   "outputs": [],
   "source": [
    "key = f\"\"\n",
    "api = WolframAPI(key)\n",
    "ans = api.query(\"water\",\"density\")"
   ]
  },
  {
   "cell_type": "code",
   "execution_count": 9,
   "metadata": {},
   "outputs": [],
   "source": [
    "_material_to_wolfram = {\n",
    "    'density': 'density',\n",
    "    'thermal_capacity': 'specific heat',\n",
    "    'thermal_conductivity': 'thermal conductivity',\n",
    "    'thermal_expansion_coefficient': 'coefficienty of thermal expansion',\n",
    "    'melting_temperature': 'melting temperature',\n",
    "}"
   ]
  },
  {
   "cell_type": "code",
   "execution_count": 10,
   "metadata": {},
   "outputs": [
    {
     "name": "stdout",
     "output_type": "stream",
     "text": [
      "thermal_capacity\n",
      "1820.0\n",
      "thermal_expansion_coefficient\n",
      "1.13\n",
      "melting_temperature\n",
      "1287.0\n"
     ]
    }
   ],
   "source": [
    "for el in beryllium.__dict__.keys():\n",
    "    if beryllium.__dict__[el] is None:\n",
    "        print(el)\n",
    "        ans = float(api.query(beryllium.name, _material_to_wolfram[el]).split()[0])\n",
    "        beryllium.__setattr__(el , ans)\n",
    "        print(beryllium.__getattribute__(el))"
   ]
  },
  {
   "cell_type": "code",
   "execution_count": 11,
   "metadata": {},
   "outputs": [],
   "source": [
    "iron.find_property(key)"
   ]
  },
  {
   "cell_type": "code",
   "execution_count": 12,
   "metadata": {},
   "outputs": [
    {
     "data": {
      "text/plain": [
       "449.0"
      ]
     },
     "execution_count": 12,
     "metadata": {},
     "output_type": "execute_result"
    }
   ],
   "source": [
    "iron.thermal_capacity"
   ]
  },
  {
   "cell_type": "code",
   "execution_count": null,
   "metadata": {},
   "outputs": [],
   "source": []
  }
 ],
 "metadata": {
  "kernelspec": {
   "display_name": "venv",
   "language": "python",
   "name": "python3"
  },
  "language_info": {
   "codemirror_mode": {
    "name": "ipython",
    "version": 3
   },
   "file_extension": ".py",
   "mimetype": "text/x-python",
   "name": "python",
   "nbconvert_exporter": "python",
   "pygments_lexer": "ipython3",
   "version": "3.8.10"
  },
  "orig_nbformat": 4
 },
 "nbformat": 4,
 "nbformat_minor": 2
}
